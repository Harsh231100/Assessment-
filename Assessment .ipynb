{
 "cells": [
  {
   "cell_type": "markdown",
   "id": "5ca83a76",
   "metadata": {},
   "source": [
    "# Module - Python"
   ]
  },
  {
   "cell_type": "markdown",
   "id": "dbe202c2",
   "metadata": {},
   "source": [
    "### 1. What will be the output of the following Python program?"
   ]
  },
  {
   "cell_type": "code",
   "execution_count": 1,
   "id": "5e4894f8",
   "metadata": {},
   "outputs": [
    {
     "name": "stdout",
     "output_type": "stream",
     "text": [
      "True\n"
     ]
    }
   ],
   "source": [
    "def foo(x):\n",
    "    x[0] = ['def']\n",
    "    x[1] = ['abc']\n",
    "    return id(x)\n",
    "q = ['abc', 'def']\n",
    "print(id(q) ==foo(q))"
   ]
  },
  {
   "cell_type": "markdown",
   "id": "f2a3d7a8",
   "metadata": {},
   "source": [
    "### 2. What will be the output of the following Python program?"
   ]
  },
  {
   "cell_type": "code",
   "execution_count": 2,
   "id": "386c354c",
   "metadata": {
    "scrolled": true
   },
   "outputs": [
    {
     "name": "stdout",
     "output_type": "stream",
     "text": [
      "2\n"
     ]
    }
   ],
   "source": [
    "def fun():\n",
    "    try:\n",
    "        return 1\n",
    "    finally:\n",
    "        return 2\n",
    "k = fun()\n",
    "print(k)"
   ]
  },
  {
   "cell_type": "markdown",
   "id": "dd98b165",
   "metadata": {},
   "source": [
    "### 3. What will be the output of the following Python program?"
   ]
  },
  {
   "cell_type": "code",
   "execution_count": 3,
   "id": "4ad9920b",
   "metadata": {},
   "outputs": [
    {
     "name": "stdout",
     "output_type": "stream",
     "text": [
      "Local\n"
     ]
    }
   ],
   "source": [
    "def func():\n",
    "    global value\n",
    "    value = \"Local\"\n",
    "\n",
    "value = \"Global\"\n",
    "func()\n",
    "print(value)"
   ]
  },
  {
   "cell_type": "markdown",
   "id": "276e84d6",
   "metadata": {},
   "source": [
    "### 4. _______________ exceptions are raised as a result of an error in opening a particular file\n",
    "\n",
    "a) ValueError\n",
    "\n",
    "b) TypeError\n",
    "\n",
    "c) ImportError\n",
    "\n",
    "d) IOError"
   ]
  },
  {
   "cell_type": "markdown",
   "id": "2b4e1b2e",
   "metadata": {},
   "source": [
    "a) ValueError: ValueError is generally raised when a built-in operation or function receives an argument of the correct type but an inappropriate value. It is not specifically related to file operations.\n",
    "\n",
    "b) TypeError: TypeError occurs when an operation or function is applied to an object of an inappropriate type. Similar to ValueError, it's not directly related to file operations.\n",
    "\n",
    "c) ImportError: ImportError is raised when there is an error in importing a module. It is not specifically related to file operations.\n",
    "\n",
    "d) IOError: IOError, or Input/Output Error, is raised when there's an issue with input or output operations, such as opening, reading, or writing to a file. It is commonly associated with file-related errors, including problems with opening a file."
   ]
  },
  {
   "cell_type": "markdown",
   "id": "5275ba8b",
   "metadata": {},
   "source": [
    "ANSWER :- d) IOError"
   ]
  },
  {
   "cell_type": "markdown",
   "id": "7f6d2de3",
   "metadata": {},
   "source": [
    "### 5. In python we do not specify types, it is directly interpreted by the compiler, so consider the following operation to be performed.\n",
    "\n",
    "a) x = 13//2\n",
    "\n",
    "b) x = int(13/2)\n",
    "\n",
    "c) x = 13\\%2\n",
    "\n",
    "d) All of the mentioned"
   ]
  },
  {
   "cell_type": "markdown",
   "id": "501fab6d",
   "metadata": {},
   "source": [
    "ANSWER :- d) All of the mentioned"
   ]
  },
  {
   "cell_type": "markdown",
   "id": "666eb3e4",
   "metadata": {},
   "source": [
    "### 6. What will be the output of the following Python code?\n",
    "\n",
    "t[5]\n",
    "\n",
    "a) IndexError\n",
    "\n",
    "b) NameError\n",
    "\n",
    "c) TypeError\n",
    "\n",
    "d) SyntacticalError"
   ]
  },
  {
   "cell_type": "code",
   "execution_count": 4,
   "id": "b1b0a6e3",
   "metadata": {},
   "outputs": [
    {
     "ename": "NameError",
     "evalue": "name 't' is not defined",
     "output_type": "error",
     "traceback": [
      "\u001b[1;31m---------------------------------------------------------------------------\u001b[0m",
      "\u001b[1;31mNameError\u001b[0m                                 Traceback (most recent call last)",
      "Cell \u001b[1;32mIn[4], line 1\u001b[0m\n\u001b[1;32m----> 1\u001b[0m t[\u001b[38;5;241m5\u001b[39m]\n",
      "\u001b[1;31mNameError\u001b[0m: name 't' is not defined"
     ]
    }
   ],
   "source": [
    "t[5]"
   ]
  },
  {
   "cell_type": "markdown",
   "id": "471ff2d0",
   "metadata": {},
   "source": [
    "### 7. A while loop in Python is used for what type of iteration?\n",
    "a) indefinite\n",
    "\n",
    "b) discriminant\n",
    "\n",
    "c) definite\n",
    "\n",
    "d) indeterminate"
   ]
  },
  {
   "cell_type": "markdown",
   "id": "80702542",
   "metadata": {},
   "source": [
    "ANSWER :- a) Indefinite\n",
    "\n",
    "A loop where the number of iterations is not known in advance, and the loop continues until a certain condition is met."
   ]
  },
  {
   "cell_type": "markdown",
   "id": "272ac8b7",
   "metadata": {},
   "source": [
    "### 8. What will be the output of the following Python code?\n",
    "\n",
    "x = \"abcdef\"\n",
    "\n",
    "while i in x:\n",
    "    print(i, end=\" \")\n",
    "\n",
    "a) a b c d e f\n",
    "\n",
    "b) abcdef\n",
    "\n",
    "c) iiiiiii...\n",
    "\n",
    "d) Error\n"
   ]
  },
  {
   "cell_type": "code",
   "execution_count": null,
   "id": "123f1215",
   "metadata": {},
   "outputs": [],
   "source": [
    "x = \"abcdef\"\n",
    "\n",
    "while i in x:\n",
    "    print(i, end=\" \")"
   ]
  },
  {
   "cell_type": "markdown",
   "id": "3c21e026",
   "metadata": {},
   "source": [
    "### 9. What is the main advantage of using decorators in Python?\n",
    "\n",
    "a) They make the code more complex\n",
    "\n",
    "b) They simplify the syntax of the decorated functions\n",
    "\n",
    "c) They reduce the performance of the code \n",
    "\n",
    "d) They provide additional security features"
   ]
  },
  {
   "cell_type": "markdown",
   "id": "b3f5a9a0",
   "metadata": {},
   "source": [
    "ANSWER :- b) They simplify the syntax of the decorated functions.\n",
    "\n",
    "One of the main advantages of decorators is that they simplify the syntax of the decorated functions, allowing you to enhance or modify the behavior of functions in a clean and organized way."
   ]
  },
  {
   "cell_type": "markdown",
   "id": "c3df5fa9",
   "metadata": {},
   "source": [
    "### 10. If return statement is not used inside the function, the function will return:\n",
    "\n",
    "a) None\n",
    "\n",
    "b) 0\n",
    "\n",
    "c) Null\n",
    "\n",
    "d) Arbitary value"
   ]
  },
  {
   "cell_type": "markdown",
   "id": "8ea01e64",
   "metadata": {},
   "source": [
    "ANSWER :- a) None\n",
    "\n",
    "If a return statement is not explicitly used inside a function, the function will automatically return None in Python."
   ]
  },
  {
   "cell_type": "markdown",
   "id": "9ee619e6",
   "metadata": {},
   "source": [
    "### 11. What is called when a function is defined inside a class?\n",
    "\n",
    "a) class\n",
    "\n",
    "b) function\n",
    "\n",
    "c) method\n",
    "\n",
    "d) module\n"
   ]
  },
  {
   "cell_type": "markdown",
   "id": "2750164f",
   "metadata": {},
   "source": [
    "ANSWER :- c) method\n",
    "\n",
    "When a function is defined inside a class in Python, it is referred to as a method. In object-oriented programming, a method is a function that is associated with an object (an instance of a class) and can access and manipulate the data within that object. The term \"method\" is used to distinguish functions that are part of a class from standalone functions"
   ]
  },
  {
   "cell_type": "markdown",
   "id": "d42930d4",
   "metadata": {},
   "source": [
    "### 12. Which operator is used in Python to import modules from packages?\n",
    "\n",
    "a) .\n",
    "\n",
    "b) *\n",
    "\n",
    "c) ->\n",
    "\n",
    "d) &\n"
   ]
  },
  {
   "cell_type": "markdown",
   "id": "b1470586",
   "metadata": {},
   "source": [
    "ANSWER :- a) .\n",
    "\n",
    "the dot (.) operator is used to import modules from packages. When importing a module from a package, you use the dot notation to specify the package and module names."
   ]
  },
  {
   "cell_type": "markdown",
   "id": "2d4fcfdd",
   "metadata": {},
   "source": [
    "### 13. def getMonth (m):\n",
    "\n",
    "### if m<1 or m>12:\n",
    "\n",
    "### raise ValueError (\"Invalid\")\n",
    "\n",
    "### print(m)\n",
    "\n",
    "### getMonth (6)\n",
    "\n",
    "a) ValueError\n",
    "\n",
    "b) Invalid\n",
    "\n",
    "c) 6\n",
    "\n",
    "d) ValueError(\"Invalid\")\n"
   ]
  },
  {
   "cell_type": "code",
   "execution_count": null,
   "id": "da1b40c5",
   "metadata": {},
   "outputs": [],
   "source": [
    "def getMonth (m):\n",
    "    if m<1 or m>12:\n",
    "        raise ValueError (\"Invalid\")\n",
    "    print(m)\n",
    "getMonth (6)"
   ]
  },
  {
   "cell_type": "markdown",
   "id": "17abc213",
   "metadata": {},
   "source": [
    "### 14. In the Python Programming Language, syntax error is detected by _______ at ________\n",
    "\n",
    "a) Interpreter/Compile time\n",
    "\n",
    "b) Run time / Interpreter\n",
    "\n",
    "c) Interpreter/ Run time\n",
    "\n",
    "d) Compile time / Run time\n"
   ]
  },
  {
   "cell_type": "markdown",
   "id": "5f317654",
   "metadata": {},
   "source": [
    "ANSWER :- a) Interpreter/Compile time\n",
    "\n",
    "Syntax errors in Python are detected by the interpreter at compile time."
   ]
  },
  {
   "cell_type": "markdown",
   "id": "e865be67",
   "metadata": {},
   "source": [
    "### 15. class Book:\n",
    "###    def_init__(self,author):\n",
    "###        self.author=author\n",
    "### book1=Book(\"V.M.Shah\")\n",
    "### book2=book1\n",
    "\n",
    "a) Both book1 and book2 will have reference to two different objects of class Book\n",
    "\n",
    "b) id(book1) and id(book2) will have same value\n",
    "\n",
    "c) It will throw error as multiple references to same object is not possible\n",
    "\n",
    "d) None of the above"
   ]
  },
  {
   "cell_type": "code",
   "execution_count": null,
   "id": "b92827d0",
   "metadata": {},
   "outputs": [],
   "source": [
    "class Book:\n",
    "    def __init__(self,author):\n",
    "        self.author=author\n",
    "book1=Book(\"V.M.Shah\")\n",
    "book2=book1"
   ]
  },
  {
   "cell_type": "code",
   "execution_count": null,
   "id": "5377fa70",
   "metadata": {},
   "outputs": [],
   "source": [
    "id(book1)"
   ]
  },
  {
   "cell_type": "code",
   "execution_count": null,
   "id": "5af7b8b4",
   "metadata": {
    "scrolled": true
   },
   "outputs": [],
   "source": [
    "id(book2)"
   ]
  },
  {
   "cell_type": "markdown",
   "id": "4ab4614d",
   "metadata": {},
   "source": [
    "ANSWER :- b) id(book1) and id(book2) will have same value"
   ]
  },
  {
   "cell_type": "markdown",
   "id": "acee379c",
   "metadata": {},
   "source": [
    "# Module-Data Analysis"
   ]
  },
  {
   "cell_type": "markdown",
   "id": "197396c0",
   "metadata": {},
   "source": [
    "## multiple choice questions with a single /multiple correct answer."
   ]
  },
  {
   "cell_type": "code",
   "execution_count": 5,
   "id": "d99f0927",
   "metadata": {},
   "outputs": [],
   "source": [
    "import pandas as pd, numpy as np"
   ]
  },
  {
   "cell_type": "code",
   "execution_count": 6,
   "id": "15a96ef2",
   "metadata": {},
   "outputs": [],
   "source": [
    "df = pd.DataFrame({'Date':['2024-01-01','2024-01-02','2024-01-03','2024-01-10','2024-01-09','2024-01-08'],\n",
    "                   'Category':['Beverage','Food','Beverage','Beverage','Beverage','Food'],\n",
    "                   'Product':['Cappuccino','Croissant','Espresso','Latte','Latte','Muffin'],\n",
    "                   'CustomerID':['C004','C002','C001','C001','C003','C002'],\n",
    "                   'Quantity':[1,2,2,3,1,1],\n",
    "                   'UnitPrice':[3,2,2,3.5,3.5,2.5]})"
   ]
  },
  {
   "cell_type": "code",
   "execution_count": 7,
   "id": "01febf79",
   "metadata": {},
   "outputs": [
    {
     "data": {
      "text/html": [
       "<div>\n",
       "<style scoped>\n",
       "    .dataframe tbody tr th:only-of-type {\n",
       "        vertical-align: middle;\n",
       "    }\n",
       "\n",
       "    .dataframe tbody tr th {\n",
       "        vertical-align: top;\n",
       "    }\n",
       "\n",
       "    .dataframe thead th {\n",
       "        text-align: right;\n",
       "    }\n",
       "</style>\n",
       "<table border=\"1\" class=\"dataframe\">\n",
       "  <thead>\n",
       "    <tr style=\"text-align: right;\">\n",
       "      <th></th>\n",
       "      <th>Date</th>\n",
       "      <th>Category</th>\n",
       "      <th>Product</th>\n",
       "      <th>CustomerID</th>\n",
       "      <th>Quantity</th>\n",
       "      <th>UnitPrice</th>\n",
       "    </tr>\n",
       "  </thead>\n",
       "  <tbody>\n",
       "    <tr>\n",
       "      <th>0</th>\n",
       "      <td>2024-01-01</td>\n",
       "      <td>Beverage</td>\n",
       "      <td>Cappuccino</td>\n",
       "      <td>C004</td>\n",
       "      <td>1</td>\n",
       "      <td>3.0</td>\n",
       "    </tr>\n",
       "    <tr>\n",
       "      <th>1</th>\n",
       "      <td>2024-01-02</td>\n",
       "      <td>Food</td>\n",
       "      <td>Croissant</td>\n",
       "      <td>C002</td>\n",
       "      <td>2</td>\n",
       "      <td>2.0</td>\n",
       "    </tr>\n",
       "    <tr>\n",
       "      <th>2</th>\n",
       "      <td>2024-01-03</td>\n",
       "      <td>Beverage</td>\n",
       "      <td>Espresso</td>\n",
       "      <td>C001</td>\n",
       "      <td>2</td>\n",
       "      <td>2.0</td>\n",
       "    </tr>\n",
       "    <tr>\n",
       "      <th>3</th>\n",
       "      <td>2024-01-10</td>\n",
       "      <td>Beverage</td>\n",
       "      <td>Latte</td>\n",
       "      <td>C001</td>\n",
       "      <td>3</td>\n",
       "      <td>3.5</td>\n",
       "    </tr>\n",
       "    <tr>\n",
       "      <th>4</th>\n",
       "      <td>2024-01-09</td>\n",
       "      <td>Beverage</td>\n",
       "      <td>Latte</td>\n",
       "      <td>C003</td>\n",
       "      <td>1</td>\n",
       "      <td>3.5</td>\n",
       "    </tr>\n",
       "    <tr>\n",
       "      <th>5</th>\n",
       "      <td>2024-01-08</td>\n",
       "      <td>Food</td>\n",
       "      <td>Muffin</td>\n",
       "      <td>C002</td>\n",
       "      <td>1</td>\n",
       "      <td>2.5</td>\n",
       "    </tr>\n",
       "  </tbody>\n",
       "</table>\n",
       "</div>"
      ],
      "text/plain": [
       "         Date  Category     Product CustomerID  Quantity  UnitPrice\n",
       "0  2024-01-01  Beverage  Cappuccino       C004         1        3.0\n",
       "1  2024-01-02      Food   Croissant       C002         2        2.0\n",
       "2  2024-01-03  Beverage    Espresso       C001         2        2.0\n",
       "3  2024-01-10  Beverage       Latte       C001         3        3.5\n",
       "4  2024-01-09  Beverage       Latte       C003         1        3.5\n",
       "5  2024-01-08      Food      Muffin       C002         1        2.5"
      ]
     },
     "execution_count": 7,
     "metadata": {},
     "output_type": "execute_result"
    }
   ],
   "source": [
    "df"
   ]
  },
  {
   "cell_type": "markdown",
   "id": "21e15ce5",
   "metadata": {},
   "source": [
    "### 16. How to create a new column 'Revenue', which has value equals to the Quantity UnitPrice of the current row?\n",
    "\n",
    "a) df['Revenue'] = df[Quantity'] * df['UnitPrice']\n",
    "\n",
    "b) df['Revenue'] = df.apply(lambda x: x['Quantity'] * x[\"UnitPrice'], axis = 1)\n",
    "\n",
    "c) df['Revenue'] = df.apply(lambda x: x['Quantity'] * x[\"UnitPrice'], axis = 0)\n",
    "\n",
    "d) df['Revenue'] = df['Quantity\"] ** df['UnitPrice\"]\n"
   ]
  },
  {
   "cell_type": "code",
   "execution_count": 8,
   "id": "0a6f41c0",
   "metadata": {},
   "outputs": [],
   "source": [
    "df['Revenue'] = df['Quantity'] * df['UnitPrice']"
   ]
  },
  {
   "cell_type": "code",
   "execution_count": 9,
   "id": "6faad4fe",
   "metadata": {},
   "outputs": [
    {
     "data": {
      "text/html": [
       "<div>\n",
       "<style scoped>\n",
       "    .dataframe tbody tr th:only-of-type {\n",
       "        vertical-align: middle;\n",
       "    }\n",
       "\n",
       "    .dataframe tbody tr th {\n",
       "        vertical-align: top;\n",
       "    }\n",
       "\n",
       "    .dataframe thead th {\n",
       "        text-align: right;\n",
       "    }\n",
       "</style>\n",
       "<table border=\"1\" class=\"dataframe\">\n",
       "  <thead>\n",
       "    <tr style=\"text-align: right;\">\n",
       "      <th></th>\n",
       "      <th>Date</th>\n",
       "      <th>Category</th>\n",
       "      <th>Product</th>\n",
       "      <th>CustomerID</th>\n",
       "      <th>Quantity</th>\n",
       "      <th>UnitPrice</th>\n",
       "      <th>Revenue</th>\n",
       "    </tr>\n",
       "  </thead>\n",
       "  <tbody>\n",
       "    <tr>\n",
       "      <th>0</th>\n",
       "      <td>2024-01-01</td>\n",
       "      <td>Beverage</td>\n",
       "      <td>Cappuccino</td>\n",
       "      <td>C004</td>\n",
       "      <td>1</td>\n",
       "      <td>3.0</td>\n",
       "      <td>3.0</td>\n",
       "    </tr>\n",
       "    <tr>\n",
       "      <th>1</th>\n",
       "      <td>2024-01-02</td>\n",
       "      <td>Food</td>\n",
       "      <td>Croissant</td>\n",
       "      <td>C002</td>\n",
       "      <td>2</td>\n",
       "      <td>2.0</td>\n",
       "      <td>4.0</td>\n",
       "    </tr>\n",
       "    <tr>\n",
       "      <th>2</th>\n",
       "      <td>2024-01-03</td>\n",
       "      <td>Beverage</td>\n",
       "      <td>Espresso</td>\n",
       "      <td>C001</td>\n",
       "      <td>2</td>\n",
       "      <td>2.0</td>\n",
       "      <td>4.0</td>\n",
       "    </tr>\n",
       "    <tr>\n",
       "      <th>3</th>\n",
       "      <td>2024-01-10</td>\n",
       "      <td>Beverage</td>\n",
       "      <td>Latte</td>\n",
       "      <td>C001</td>\n",
       "      <td>3</td>\n",
       "      <td>3.5</td>\n",
       "      <td>10.5</td>\n",
       "    </tr>\n",
       "    <tr>\n",
       "      <th>4</th>\n",
       "      <td>2024-01-09</td>\n",
       "      <td>Beverage</td>\n",
       "      <td>Latte</td>\n",
       "      <td>C003</td>\n",
       "      <td>1</td>\n",
       "      <td>3.5</td>\n",
       "      <td>3.5</td>\n",
       "    </tr>\n",
       "    <tr>\n",
       "      <th>5</th>\n",
       "      <td>2024-01-08</td>\n",
       "      <td>Food</td>\n",
       "      <td>Muffin</td>\n",
       "      <td>C002</td>\n",
       "      <td>1</td>\n",
       "      <td>2.5</td>\n",
       "      <td>2.5</td>\n",
       "    </tr>\n",
       "  </tbody>\n",
       "</table>\n",
       "</div>"
      ],
      "text/plain": [
       "         Date  Category     Product CustomerID  Quantity  UnitPrice  Revenue\n",
       "0  2024-01-01  Beverage  Cappuccino       C004         1        3.0      3.0\n",
       "1  2024-01-02      Food   Croissant       C002         2        2.0      4.0\n",
       "2  2024-01-03  Beverage    Espresso       C001         2        2.0      4.0\n",
       "3  2024-01-10  Beverage       Latte       C001         3        3.5     10.5\n",
       "4  2024-01-09  Beverage       Latte       C003         1        3.5      3.5\n",
       "5  2024-01-08      Food      Muffin       C002         1        2.5      2.5"
      ]
     },
     "execution_count": 9,
     "metadata": {},
     "output_type": "execute_result"
    }
   ],
   "source": [
    "df"
   ]
  },
  {
   "cell_type": "markdown",
   "id": "529c1690",
   "metadata": {},
   "source": [
    "### 17. What is the syntax to find Categorical wise revenue?\n",
    "\n",
    "a) df.groupby('Category')['Revenue'].mean()\n",
    "\n",
    "b) df.groupby('Category')['Revenue'].sum()\n",
    "\n",
    "c) df.groupby('Category')['Revenue'] agg(np.sum)\n",
    "\n",
    "d) df.groupby('Category')['Revenue'].agg('sum')"
   ]
  },
  {
   "cell_type": "code",
   "execution_count": 10,
   "id": "53cbcdb0",
   "metadata": {},
   "outputs": [
    {
     "data": {
      "text/plain": [
       "Category\n",
       "Beverage    21.0\n",
       "Food         6.5\n",
       "Name: Revenue, dtype: float64"
      ]
     },
     "execution_count": 10,
     "metadata": {},
     "output_type": "execute_result"
    }
   ],
   "source": [
    "df.groupby('Category')['Revenue'].sum()"
   ]
  },
  {
   "cell_type": "markdown",
   "id": "b409b28e",
   "metadata": {},
   "source": [
    "### 18. To find the average quantity wrt to date and product, what is the correct syntax?\n",
    "\n",
    "a) df.groupby(['Date', 'Product'])['Quantity'].avg()\n",
    "\n",
    "b) df.groupby(['Date', 'Product'])['Quantity'].mean()\n",
    "\n",
    "c) df.groupby(['Product', 'Date']) ['Quantity'].avg()\n",
    "\n",
    "d) df.groupby(['Product', 'Mean'])['Quantity'].mean()"
   ]
  },
  {
   "cell_type": "code",
   "execution_count": 11,
   "id": "83519479",
   "metadata": {},
   "outputs": [
    {
     "data": {
      "text/plain": [
       "Date        Product   \n",
       "2024-01-01  Cappuccino    1.0\n",
       "2024-01-02  Croissant     2.0\n",
       "2024-01-03  Espresso      2.0\n",
       "2024-01-08  Muffin        1.0\n",
       "2024-01-09  Latte         1.0\n",
       "2024-01-10  Latte         3.0\n",
       "Name: Quantity, dtype: float64"
      ]
     },
     "execution_count": 11,
     "metadata": {},
     "output_type": "execute_result"
    }
   ],
   "source": [
    "df.groupby(['Date', 'Product'])['Quantity'].mean()"
   ]
  },
  {
   "cell_type": "markdown",
   "id": "e6282fc3",
   "metadata": {},
   "source": [
    "### 19. Categorical wise revenue for Beverage and Food respectively are\n",
    "\n",
    "a) 28.5, 6.0\n",
    "\n",
    "b) 6.0, 27.5\n",
    "\n",
    "c) 28.5, 7.0\n",
    "\n",
    "d) 7.0, 28.5"
   ]
  },
  {
   "cell_type": "code",
   "execution_count": 12,
   "id": "e1a0b7a4",
   "metadata": {},
   "outputs": [
    {
     "data": {
      "text/plain": [
       "21.0"
      ]
     },
     "execution_count": 12,
     "metadata": {},
     "output_type": "execute_result"
    }
   ],
   "source": [
    "beverage_revenue = df[df['Category'] == 'Beverage']['Revenue'].sum()\n",
    "beverage_revenue"
   ]
  },
  {
   "cell_type": "code",
   "execution_count": 13,
   "id": "3b23f4cb",
   "metadata": {},
   "outputs": [
    {
     "data": {
      "text/plain": [
       "6.5"
      ]
     },
     "execution_count": 13,
     "metadata": {},
     "output_type": "execute_result"
    }
   ],
   "source": [
    "food_revenue = df[df['Category'] == 'Food']['Revenue'].sum()\n",
    "food_revenue"
   ]
  },
  {
   "cell_type": "markdown",
   "id": "e89af283",
   "metadata": {},
   "source": [
    "### 20. Using transform, what is the syntax to create a column which has a UnitPrice difference wrt its Category mean?\n",
    "\n",
    "a) df.groupby('Category')['UnitPrice'].transform(lambda x:x-x.mean())\n",
    "\n",
    "b) df.groupby('Category')('UnitPrice').transform(lambda x:x-x.mean())\n",
    "\n",
    "c) df.groupby['Category']['UnitPrice'].transform(lambda x:x-x.mean())\n",
    "\n",
    "d) df.groupby(['Category','UnitPrice']).transform(lambda x:x-x.mean())\n"
   ]
  },
  {
   "cell_type": "code",
   "execution_count": 14,
   "id": "4894ab2d",
   "metadata": {
    "scrolled": true
   },
   "outputs": [
    {
     "data": {
      "text/plain": [
       "0    0.00\n",
       "1   -0.25\n",
       "2   -1.00\n",
       "3    0.50\n",
       "4    0.50\n",
       "5    0.25\n",
       "Name: UnitPrice, dtype: float64"
      ]
     },
     "execution_count": 14,
     "metadata": {},
     "output_type": "execute_result"
    }
   ],
   "source": [
    "df.groupby('Category')['UnitPrice'].transform(lambda x:x-x.mean())"
   ]
  },
  {
   "cell_type": "markdown",
   "id": "73bbc19d",
   "metadata": {},
   "source": [
    "### 21. What is the correct syntax to get data wrt 'Monday'?\n",
    "\n",
    "a) df.groupby(df.Date.dt.day_name()).get_group('Monday')\n",
    "\n",
    "b) df.groupby(df.Date.dt.dayname()).get_group('Monday')\n",
    "\n",
    "c) df.groupby(df.Date.dt.dayofweek()).get_group(\"Monday')\n",
    "\n",
    "d) df.groupby(df.Date.dt.day_of_week()).get_group('Monday')"
   ]
  },
  {
   "cell_type": "code",
   "execution_count": 15,
   "id": "988c1923",
   "metadata": {},
   "outputs": [],
   "source": [
    "#df.groupby(df.Date.dt.day_name()).get_group('Monday')"
   ]
  },
  {
   "cell_type": "code",
   "execution_count": 16,
   "id": "bfe2975f",
   "metadata": {},
   "outputs": [],
   "source": [
    "#df.groupby(df.Date.dt.dayofweek()).get_group(\"Monday')"
   ]
  },
  {
   "cell_type": "markdown",
   "id": "b5237422",
   "metadata": {},
   "source": [
    "### 22. Which of the following statements is/are True?\n",
    "\n",
    "a) apply() can be applied on rows\n",
    "\n",
    "b) Apply function can't be applied on rows\n",
    "\n",
    "c) Apply applies the function on the entire series at a time.\n",
    "\n",
    "d) Apply applies the function one cell at a time"
   ]
  },
  {
   "cell_type": "markdown",
   "id": "39f39631",
   "metadata": {},
   "source": [
    "ANSWER :- a) apply() can be applied on rows , c) Apply applies the function on the entire series at a time.\n",
    "\n",
    "a) apply() can indeed be applied on both rows and columns. By default, it applies the function along columns, but you can specify axis=1 to apply it along rows.\n",
    "\n",
    "c) This statement is true. The apply() function applies the specified function to each column or row, depending on the specified axis. By default, it applies the function to entire columns."
   ]
  },
  {
   "cell_type": "markdown",
   "id": "e320c8fc",
   "metadata": {},
   "source": [
    "### 23. Which of the following statements is/are True?\n",
    "a) Map applies the functionality on entire DataFrame\n",
    "\n",
    "b) Applymap applies the functionality on series be it row or a column\n",
    "\n",
    "c) Apply and Map are vectorized applications\n",
    "\n",
    "d) None of the above"
   ]
  },
  {
   "cell_type": "markdown",
   "id": "17a9c1b4",
   "metadata": {},
   "source": [
    "ANSWER :- a) Map applies the functionality on entire DataFrame, c) Apply and Map are vectorized applications\n",
    "    \n",
    "a) map() applies the specified function to each element of a series or each element of specified columns in a DataFrame. When applied to a DataFrame, it operates on each column individually.\n",
    "\n",
    "c) This statement is true. Both apply() and map() are vectorized operations in pandas. They allow you to apply a function to each element of a series or DataFrame without using explicit loops."
   ]
  },
  {
   "cell_type": "code",
   "execution_count": 17,
   "id": "37fdc2db",
   "metadata": {},
   "outputs": [],
   "source": [
    "df1 = pd.DataFrame({'Date':['2024-01-10','2024-01-11','2024-01-10','2024-01-12','2024-01-11','2024-01-12'],\n",
    "                   'Region':['North','South','East','West','North','East'],\n",
    "                   'Salesperson':['Ajay','Balu','Chirag']*2,\n",
    "                   'Product':['Notebook','Pen','Notebook','Pen','Blinder','Blinder'],\n",
    "                   'Quantity':[5,10,7,15,20,10],\n",
    "                   'UnitPrice':[12,3,12,3,5,5]})"
   ]
  },
  {
   "cell_type": "code",
   "execution_count": 18,
   "id": "eaf5fa98",
   "metadata": {},
   "outputs": [
    {
     "data": {
      "text/html": [
       "<div>\n",
       "<style scoped>\n",
       "    .dataframe tbody tr th:only-of-type {\n",
       "        vertical-align: middle;\n",
       "    }\n",
       "\n",
       "    .dataframe tbody tr th {\n",
       "        vertical-align: top;\n",
       "    }\n",
       "\n",
       "    .dataframe thead th {\n",
       "        text-align: right;\n",
       "    }\n",
       "</style>\n",
       "<table border=\"1\" class=\"dataframe\">\n",
       "  <thead>\n",
       "    <tr style=\"text-align: right;\">\n",
       "      <th></th>\n",
       "      <th>Date</th>\n",
       "      <th>Region</th>\n",
       "      <th>Salesperson</th>\n",
       "      <th>Product</th>\n",
       "      <th>Quantity</th>\n",
       "      <th>UnitPrice</th>\n",
       "    </tr>\n",
       "  </thead>\n",
       "  <tbody>\n",
       "    <tr>\n",
       "      <th>0</th>\n",
       "      <td>2024-01-10</td>\n",
       "      <td>North</td>\n",
       "      <td>Ajay</td>\n",
       "      <td>Notebook</td>\n",
       "      <td>5</td>\n",
       "      <td>12</td>\n",
       "    </tr>\n",
       "    <tr>\n",
       "      <th>1</th>\n",
       "      <td>2024-01-11</td>\n",
       "      <td>South</td>\n",
       "      <td>Balu</td>\n",
       "      <td>Pen</td>\n",
       "      <td>10</td>\n",
       "      <td>3</td>\n",
       "    </tr>\n",
       "    <tr>\n",
       "      <th>2</th>\n",
       "      <td>2024-01-10</td>\n",
       "      <td>East</td>\n",
       "      <td>Chirag</td>\n",
       "      <td>Notebook</td>\n",
       "      <td>7</td>\n",
       "      <td>12</td>\n",
       "    </tr>\n",
       "    <tr>\n",
       "      <th>3</th>\n",
       "      <td>2024-01-12</td>\n",
       "      <td>West</td>\n",
       "      <td>Ajay</td>\n",
       "      <td>Pen</td>\n",
       "      <td>15</td>\n",
       "      <td>3</td>\n",
       "    </tr>\n",
       "    <tr>\n",
       "      <th>4</th>\n",
       "      <td>2024-01-11</td>\n",
       "      <td>North</td>\n",
       "      <td>Balu</td>\n",
       "      <td>Blinder</td>\n",
       "      <td>20</td>\n",
       "      <td>5</td>\n",
       "    </tr>\n",
       "    <tr>\n",
       "      <th>5</th>\n",
       "      <td>2024-01-12</td>\n",
       "      <td>East</td>\n",
       "      <td>Chirag</td>\n",
       "      <td>Blinder</td>\n",
       "      <td>10</td>\n",
       "      <td>5</td>\n",
       "    </tr>\n",
       "  </tbody>\n",
       "</table>\n",
       "</div>"
      ],
      "text/plain": [
       "         Date Region Salesperson   Product  Quantity  UnitPrice\n",
       "0  2024-01-10  North        Ajay  Notebook         5         12\n",
       "1  2024-01-11  South        Balu       Pen        10          3\n",
       "2  2024-01-10   East      Chirag  Notebook         7         12\n",
       "3  2024-01-12   West        Ajay       Pen        15          3\n",
       "4  2024-01-11  North        Balu   Blinder        20          5\n",
       "5  2024-01-12   East      Chirag   Blinder        10          5"
      ]
     },
     "execution_count": 18,
     "metadata": {},
     "output_type": "execute_result"
    }
   ],
   "source": [
    "df1"
   ]
  },
  {
   "cell_type": "markdown",
   "id": "be39cb25",
   "metadata": {},
   "source": [
    "### 24. What is the syntax to create a pivot table with index as North and South and columns as Product where values are sum of Quantities Sold ?\n",
    "\n",
    "a) df1[df1['Region].isin(['North', 'South']).pivot_table(index = 'Product', columns = 'Product', values = 'Quantity, agg = 'sum')\n",
    "\n",
    "b) df1[df1['Region], isin(['North', 'South']).pivot_table(index = 'Product', columns = 'Product', values = 'Quantity, aggfunc = 'sum')\n",
    "\n",
    "c) df1[(df1['Region] == 'North') | (df1['Region']=='South\")]).pivot_table(index = 'Product', columns = 'Product', values = 'Quantity', agg = 'sum')\n",
    "\n",
    "d) df1[(df1['Region] == 'North') | (df1['Region']=='South')]).pivot_table(index = 'Product', columns Product, values = 'Quantity', aggfunc = 'sum')\n"
   ]
  },
  {
   "cell_type": "code",
   "execution_count": 19,
   "id": "cad72a90",
   "metadata": {},
   "outputs": [
    {
     "data": {
      "text/html": [
       "<div>\n",
       "<style scoped>\n",
       "    .dataframe tbody tr th:only-of-type {\n",
       "        vertical-align: middle;\n",
       "    }\n",
       "\n",
       "    .dataframe tbody tr th {\n",
       "        vertical-align: top;\n",
       "    }\n",
       "\n",
       "    .dataframe thead th {\n",
       "        text-align: right;\n",
       "    }\n",
       "</style>\n",
       "<table border=\"1\" class=\"dataframe\">\n",
       "  <thead>\n",
       "    <tr style=\"text-align: right;\">\n",
       "      <th>Product</th>\n",
       "      <th>Blinder</th>\n",
       "      <th>Notebook</th>\n",
       "      <th>Pen</th>\n",
       "    </tr>\n",
       "    <tr>\n",
       "      <th>Region</th>\n",
       "      <th></th>\n",
       "      <th></th>\n",
       "      <th></th>\n",
       "    </tr>\n",
       "  </thead>\n",
       "  <tbody>\n",
       "    <tr>\n",
       "      <th>North</th>\n",
       "      <td>20.0</td>\n",
       "      <td>5.0</td>\n",
       "      <td>NaN</td>\n",
       "    </tr>\n",
       "    <tr>\n",
       "      <th>South</th>\n",
       "      <td>NaN</td>\n",
       "      <td>NaN</td>\n",
       "      <td>10.0</td>\n",
       "    </tr>\n",
       "  </tbody>\n",
       "</table>\n",
       "</div>"
      ],
      "text/plain": [
       "Product  Blinder  Notebook   Pen\n",
       "Region                          \n",
       "North       20.0       5.0   NaN\n",
       "South        NaN       NaN  10.0"
      ]
     },
     "execution_count": 19,
     "metadata": {},
     "output_type": "execute_result"
    }
   ],
   "source": [
    "df1[df1['Region'].isin(['North', 'South'])].pivot_table(index='Region', columns='Product', values='Quantity', aggfunc='sum')\n"
   ]
  },
  {
   "cell_type": "markdown",
   "id": "71d9ba40",
   "metadata": {},
   "source": [
    "### 25. Which of the following statements is/are True?\n",
    "\n",
    "a) iloc method includes includes the last element when used for slicing\n",
    "\n",
    "b) loc method doesn't includes the last element when used for slicing\n",
    "\n",
    "c) We can use loc method and pass default integer index of rows when slicing\n",
    "\n",
    "d) None of above\n"
   ]
  },
  {
   "cell_type": "markdown",
   "id": "da5455e9",
   "metadata": {},
   "source": [
    "ANSWER :- a) iloc method includes includes the last element when used for slicing ,\n",
    "b) loc method doesn't includes the last element when used for slicing\n",
    "\n",
    "a) iloc is used for integer-location based indexing, and when used for slicing, it includes the last element in the specified range.\n",
    "\n",
    "b) loc is label-based indexing, and when used for slicing, it includes both the start and end points, unlike iloc which includes the start but excludes the end."
   ]
  },
  {
   "cell_type": "markdown",
   "id": "bf68c006",
   "metadata": {},
   "source": [
    "### 26. Using a pivot table is it possible to create a multi-index dataframe, if so what is the syntax to have a multi index of Date and Region, with total Product sold as values?\n",
    "\n",
    "a) No we can't create a multi-index table using pivot table\n",
    "\n",
    "b) df1.pivot_table(index=['Date', 'Region'], columns = 'Product', values = 'Quantity', aggfunc = 'sum')\n",
    "\n",
    "c) df1.pivot_table(index=['Date', 'Region'], columns = 'Product', values = 'Quantity', agg = 'sum')\n",
    "\n",
    "d) None of these"
   ]
  },
  {
   "cell_type": "code",
   "execution_count": 20,
   "id": "eea9e60c",
   "metadata": {},
   "outputs": [
    {
     "data": {
      "text/html": [
       "<div>\n",
       "<style scoped>\n",
       "    .dataframe tbody tr th:only-of-type {\n",
       "        vertical-align: middle;\n",
       "    }\n",
       "\n",
       "    .dataframe tbody tr th {\n",
       "        vertical-align: top;\n",
       "    }\n",
       "\n",
       "    .dataframe thead th {\n",
       "        text-align: right;\n",
       "    }\n",
       "</style>\n",
       "<table border=\"1\" class=\"dataframe\">\n",
       "  <thead>\n",
       "    <tr style=\"text-align: right;\">\n",
       "      <th></th>\n",
       "      <th>Product</th>\n",
       "      <th>Blinder</th>\n",
       "      <th>Notebook</th>\n",
       "      <th>Pen</th>\n",
       "    </tr>\n",
       "    <tr>\n",
       "      <th>Date</th>\n",
       "      <th>Region</th>\n",
       "      <th></th>\n",
       "      <th></th>\n",
       "      <th></th>\n",
       "    </tr>\n",
       "  </thead>\n",
       "  <tbody>\n",
       "    <tr>\n",
       "      <th rowspan=\"2\" valign=\"top\">2024-01-10</th>\n",
       "      <th>East</th>\n",
       "      <td>NaN</td>\n",
       "      <td>7.0</td>\n",
       "      <td>NaN</td>\n",
       "    </tr>\n",
       "    <tr>\n",
       "      <th>North</th>\n",
       "      <td>NaN</td>\n",
       "      <td>5.0</td>\n",
       "      <td>NaN</td>\n",
       "    </tr>\n",
       "    <tr>\n",
       "      <th rowspan=\"2\" valign=\"top\">2024-01-11</th>\n",
       "      <th>North</th>\n",
       "      <td>20.0</td>\n",
       "      <td>NaN</td>\n",
       "      <td>NaN</td>\n",
       "    </tr>\n",
       "    <tr>\n",
       "      <th>South</th>\n",
       "      <td>NaN</td>\n",
       "      <td>NaN</td>\n",
       "      <td>10.0</td>\n",
       "    </tr>\n",
       "    <tr>\n",
       "      <th rowspan=\"2\" valign=\"top\">2024-01-12</th>\n",
       "      <th>East</th>\n",
       "      <td>10.0</td>\n",
       "      <td>NaN</td>\n",
       "      <td>NaN</td>\n",
       "    </tr>\n",
       "    <tr>\n",
       "      <th>West</th>\n",
       "      <td>NaN</td>\n",
       "      <td>NaN</td>\n",
       "      <td>15.0</td>\n",
       "    </tr>\n",
       "  </tbody>\n",
       "</table>\n",
       "</div>"
      ],
      "text/plain": [
       "Product            Blinder  Notebook   Pen\n",
       "Date       Region                         \n",
       "2024-01-10 East        NaN       7.0   NaN\n",
       "           North       NaN       5.0   NaN\n",
       "2024-01-11 North      20.0       NaN   NaN\n",
       "           South       NaN       NaN  10.0\n",
       "2024-01-12 East       10.0       NaN   NaN\n",
       "           West        NaN       NaN  15.0"
      ]
     },
     "execution_count": 20,
     "metadata": {},
     "output_type": "execute_result"
    }
   ],
   "source": [
    "df1.pivot_table(index = ['Date', 'Region'], columns = 'Product', values = 'Quantity', aggfunc = 'sum')"
   ]
  },
  {
   "cell_type": "markdown",
   "id": "c0aa3fda",
   "metadata": {},
   "source": [
    "### 27. What does the margins parameter in the pivot_table() function allow you to include in the pivot table?\n",
    "\n",
    "a) Additional margins and subtotals for rows and columns.\n",
    "\n",
    "b) A list of column names to exclude from the pivot table.\n",
    "\n",
    "c) The number of rows and columns to skip at the beginning of the pivot table.\n",
    "\n",
    "d) The maximum number of rows and columns to display in the pivot table"
   ]
  },
  {
   "cell_type": "markdown",
   "id": "d4d76b15",
   "metadata": {},
   "source": [
    "ANSWER :- d) The maximum number of rows and columns to display in the pivot table"
   ]
  },
  {
   "cell_type": "code",
   "execution_count": 21,
   "id": "8e1ee1f9",
   "metadata": {},
   "outputs": [
    {
     "data": {
      "text/html": [
       "<div>\n",
       "<style scoped>\n",
       "    .dataframe tbody tr th:only-of-type {\n",
       "        vertical-align: middle;\n",
       "    }\n",
       "\n",
       "    .dataframe tbody tr th {\n",
       "        vertical-align: top;\n",
       "    }\n",
       "\n",
       "    .dataframe thead th {\n",
       "        text-align: right;\n",
       "    }\n",
       "</style>\n",
       "<table border=\"1\" class=\"dataframe\">\n",
       "  <thead>\n",
       "    <tr style=\"text-align: right;\">\n",
       "      <th></th>\n",
       "      <th>Fruits</th>\n",
       "      <th>Price</th>\n",
       "    </tr>\n",
       "  </thead>\n",
       "  <tbody>\n",
       "    <tr>\n",
       "      <th>0</th>\n",
       "      <td>apple</td>\n",
       "      <td></td>\n",
       "    </tr>\n",
       "    <tr>\n",
       "      <th>1</th>\n",
       "      <td>banana</td>\n",
       "      <td></td>\n",
       "    </tr>\n",
       "    <tr>\n",
       "      <th>2</th>\n",
       "      <td>apple</td>\n",
       "      <td>205</td>\n",
       "    </tr>\n",
       "    <tr>\n",
       "      <th>3</th>\n",
       "      <td>apple</td>\n",
       "      <td>200</td>\n",
       "    </tr>\n",
       "    <tr>\n",
       "      <th>4</th>\n",
       "      <td>banana</td>\n",
       "      <td>40</td>\n",
       "    </tr>\n",
       "    <tr>\n",
       "      <th>5</th>\n",
       "      <td>apple</td>\n",
       "      <td>210</td>\n",
       "    </tr>\n",
       "    <tr>\n",
       "      <th>6</th>\n",
       "      <td>kiwi</td>\n",
       "      <td>300</td>\n",
       "    </tr>\n",
       "    <tr>\n",
       "      <th>7</th>\n",
       "      <td>kiwi</td>\n",
       "      <td>320</td>\n",
       "    </tr>\n",
       "    <tr>\n",
       "      <th>8</th>\n",
       "      <td>banana</td>\n",
       "      <td></td>\n",
       "    </tr>\n",
       "    <tr>\n",
       "      <th>9</th>\n",
       "      <td>apple</td>\n",
       "      <td>180</td>\n",
       "    </tr>\n",
       "    <tr>\n",
       "      <th>10</th>\n",
       "      <td>kiwi</td>\n",
       "      <td>350</td>\n",
       "    </tr>\n",
       "    <tr>\n",
       "      <th>11</th>\n",
       "      <td>apple</td>\n",
       "      <td></td>\n",
       "    </tr>\n",
       "    <tr>\n",
       "      <th>12</th>\n",
       "      <td>banana</td>\n",
       "      <td>35</td>\n",
       "    </tr>\n",
       "    <tr>\n",
       "      <th>13</th>\n",
       "      <td>grape</td>\n",
       "      <td></td>\n",
       "    </tr>\n",
       "    <tr>\n",
       "      <th>14</th>\n",
       "      <td>apple</td>\n",
       "      <td>215</td>\n",
       "    </tr>\n",
       "    <tr>\n",
       "      <th>15</th>\n",
       "      <td>banana</td>\n",
       "      <td>40</td>\n",
       "    </tr>\n",
       "    <tr>\n",
       "      <th>16</th>\n",
       "      <td>apple</td>\n",
       "      <td></td>\n",
       "    </tr>\n",
       "    <tr>\n",
       "      <th>17</th>\n",
       "      <td>apple</td>\n",
       "      <td></td>\n",
       "    </tr>\n",
       "    <tr>\n",
       "      <th>18</th>\n",
       "      <td>grape</td>\n",
       "      <td></td>\n",
       "    </tr>\n",
       "  </tbody>\n",
       "</table>\n",
       "</div>"
      ],
      "text/plain": [
       "    Fruits Price\n",
       "0    apple      \n",
       "1   banana      \n",
       "2    apple   205\n",
       "3    apple   200\n",
       "4   banana    40\n",
       "5    apple   210\n",
       "6     kiwi   300\n",
       "7     kiwi   320\n",
       "8   banana      \n",
       "9    apple   180\n",
       "10    kiwi   350\n",
       "11   apple      \n",
       "12  banana    35\n",
       "13   grape      \n",
       "14   apple   215\n",
       "15  banana    40\n",
       "16   apple      \n",
       "17   apple      \n",
       "18   grape      "
      ]
     },
     "execution_count": 21,
     "metadata": {},
     "output_type": "execute_result"
    }
   ],
   "source": [
    "df2 = pd.DataFrame({\n",
    "    'Fruits': ['apple', 'banana', 'apple', 'apple', 'banana', 'apple', 'kiwi', 'kiwi', 'banana', 'apple', 'kiwi', 'apple', 'banana', 'grape', 'apple', 'banana', 'apple', 'apple', 'grape'],\n",
    "    'Price': ['', '', 205, 200, 40, 210, 300, 320, '', 180, 350, '', 35, '', 215, 40, '', '', '']})\n",
    "df2"
   ]
  },
  {
   "cell_type": "markdown",
   "id": "6950451e",
   "metadata": {},
   "source": [
    "### 28. If we choose to impute missing values in Price col by chaining ffill() and bfill() while limiting the imputation to 1, 1 respectively, how many missing values will be left post imputation?\n",
    "\n",
    "a) 2\n",
    "\n",
    "b) 0\n",
    "\n",
    "c) 1\n",
    "\n",
    "d) 3\n"
   ]
  },
  {
   "cell_type": "code",
   "execution_count": 22,
   "id": "f247a617",
   "metadata": {},
   "outputs": [
    {
     "data": {
      "text/plain": [
       "0"
      ]
     },
     "execution_count": 22,
     "metadata": {},
     "output_type": "execute_result"
    }
   ],
   "source": [
    "df2['Price'] = df2['Price'].ffill(limit=1).bfill(limit=1)\n",
    "df2['Price'].isnull().sum()"
   ]
  },
  {
   "cell_type": "markdown",
   "id": "2bd623aa",
   "metadata": {},
   "source": [
    "ANSWER :- b) 0"
   ]
  },
  {
   "cell_type": "markdown",
   "id": "77619cdc",
   "metadata": {},
   "source": [
    "### 29. What kind of missing values handling technique is appropriate for df2?\n",
    "\n",
    "a) Imputing Price col with Price's mean\n",
    "\n",
    "b) Imputing Price col with Price's median\n",
    "\n",
    "c) Imputing Price col with individual fruits' Price's median\n",
    "\n",
    "d) Dropping missing values\n"
   ]
  },
  {
   "cell_type": "markdown",
   "id": "eb6d4d57",
   "metadata": {},
   "source": [
    "ANSWER :- c) Imputing Price col with individual fruits' Price's median"
   ]
  },
  {
   "cell_type": "markdown",
   "id": "e5e41d42",
   "metadata": {},
   "source": [
    "### 30. If we choose to impute missing values in Price col by with individual Fruits' Price's mean, how many missing values will be post imputation?\n",
    "\n",
    "a) 2\n",
    "\n",
    "b) 0\n",
    "\n",
    "c) 1\n",
    "\n",
    "d) 3"
   ]
  },
  {
   "cell_type": "code",
   "execution_count": 23,
   "id": "be11aed7",
   "metadata": {},
   "outputs": [
    {
     "data": {
      "text/plain": [
       "2"
      ]
     },
     "execution_count": 23,
     "metadata": {},
     "output_type": "execute_result"
    }
   ],
   "source": [
    "df2['Price'] = pd.to_numeric(df2['Price'], errors='coerce')\n",
    "\n",
    "df2['Price'] = df2.groupby('Fruits')['Price'].transform(lambda x: x.fillna(x.mean()))\n",
    "\n",
    "df2['Price'].isnull().sum()"
   ]
  },
  {
   "cell_type": "markdown",
   "id": "fe2ce8e9",
   "metadata": {},
   "source": [
    "### 31. If a = pd.Series([np.nan, 1, 2, пр.п np.nan, np.nan, np.nan, 4, 5, 7]) What will be the output of a. interpolate()\n",
    "\n",
    "a) [nan, 1.0, 2.0, 2.3, 2.7, 3.1, 3.5, 4.0, 5.0, 7.01]\n",
    "\n",
    "b) [nan, 1.0, 2.0, 2.5, 2.9, 3.3, 3.8, 4.0, 5.0, 7.01]\n",
    "\n",
    "c) [nan, 1.0, 2.0, 2.4, 2.8, 3.2, 3.6, 4.0, 5.0, 7.0]\n",
    "\n",
    "d) Error"
   ]
  },
  {
   "cell_type": "code",
   "execution_count": 24,
   "id": "df78ee38",
   "metadata": {
    "scrolled": true
   },
   "outputs": [
    {
     "data": {
      "text/plain": [
       "0    NaN\n",
       "1    1.0\n",
       "2    2.0\n",
       "3    2.4\n",
       "4    2.8\n",
       "5    3.2\n",
       "6    3.6\n",
       "7    4.0\n",
       "8    5.0\n",
       "9    7.0\n",
       "dtype: float64"
      ]
     },
     "execution_count": 24,
     "metadata": {},
     "output_type": "execute_result"
    }
   ],
   "source": [
    "a = pd.Series([np.nan, 1, 2, np.nan, np.nan, np.nan, np.nan, 4, 5, 7]).interpolate()\n",
    "a"
   ]
  },
  {
   "cell_type": "markdown",
   "id": "08d64d20",
   "metadata": {},
   "source": [
    "ANSWER :- c) [nan, 1.0, 2.0, 2.4, 2.8, 3.2, 3.6, 4.0, 5.0, 7.0]"
   ]
  },
  {
   "cell_type": "code",
   "execution_count": 25,
   "id": "5c53b62f",
   "metadata": {},
   "outputs": [
    {
     "data": {
      "text/html": [
       "<div>\n",
       "<style scoped>\n",
       "    .dataframe tbody tr th:only-of-type {\n",
       "        vertical-align: middle;\n",
       "    }\n",
       "\n",
       "    .dataframe tbody tr th {\n",
       "        vertical-align: top;\n",
       "    }\n",
       "\n",
       "    .dataframe thead th {\n",
       "        text-align: right;\n",
       "    }\n",
       "</style>\n",
       "<table border=\"1\" class=\"dataframe\">\n",
       "  <thead>\n",
       "    <tr style=\"text-align: right;\">\n",
       "      <th></th>\n",
       "      <th>Age Group</th>\n",
       "      <th>Favorite Color</th>\n",
       "      <th>Gender</th>\n",
       "      <th>Has Pet</th>\n",
       "    </tr>\n",
       "  </thead>\n",
       "  <tbody>\n",
       "    <tr>\n",
       "      <th>0</th>\n",
       "      <td>26-35</td>\n",
       "      <td>Blue</td>\n",
       "      <td>Male</td>\n",
       "      <td>Yes</td>\n",
       "    </tr>\n",
       "    <tr>\n",
       "      <th>1</th>\n",
       "      <td>18-25</td>\n",
       "      <td>Red</td>\n",
       "      <td>Female</td>\n",
       "      <td>Yes</td>\n",
       "    </tr>\n",
       "    <tr>\n",
       "      <th>2</th>\n",
       "      <td>18-25</td>\n",
       "      <td>Red</td>\n",
       "      <td>Male</td>\n",
       "      <td>Yes</td>\n",
       "    </tr>\n",
       "    <tr>\n",
       "      <th>3</th>\n",
       "      <td>26-35</td>\n",
       "      <td>Blue</td>\n",
       "      <td>Female</td>\n",
       "      <td>Yes</td>\n",
       "    </tr>\n",
       "    <tr>\n",
       "      <th>4</th>\n",
       "      <td>18-25</td>\n",
       "      <td>Red</td>\n",
       "      <td>Female</td>\n",
       "      <td>Yes</td>\n",
       "    </tr>\n",
       "    <tr>\n",
       "      <th>5</th>\n",
       "      <td>18-25</td>\n",
       "      <td>Blue</td>\n",
       "      <td>Female</td>\n",
       "      <td>No</td>\n",
       "    </tr>\n",
       "  </tbody>\n",
       "</table>\n",
       "</div>"
      ],
      "text/plain": [
       "  Age Group Favorite Color  Gender Has Pet\n",
       "0     26-35           Blue    Male     Yes\n",
       "1     18-25            Red  Female     Yes\n",
       "2     18-25            Red    Male     Yes\n",
       "3     26-35           Blue  Female     Yes\n",
       "4     18-25            Red  Female     Yes\n",
       "5     18-25           Blue  Female      No"
      ]
     },
     "execution_count": 25,
     "metadata": {},
     "output_type": "execute_result"
    }
   ],
   "source": [
    "df3 = pd.DataFrame({\n",
    "    'Age Group': ['26-35', '18-25', '18-25', '26-35', '18-25', '18-25'],\n",
    "    'Favorite Color': ['Blue', 'Red', 'Red', 'Blue', 'Red', 'Blue'],\n",
    "    'Gender': ['Male', 'Female', 'Male', 'Female', 'Female', 'Female'],\n",
    "    'Has Pet': ['Yes', 'Yes', 'Yes', 'Yes', 'Yes', 'No']\n",
    "})\n",
    "\n",
    "df3"
   ]
  },
  {
   "cell_type": "markdown",
   "id": "103ef292",
   "metadata": {},
   "source": [
    "### 32. What is the use of the normalization parameter in the crosstab method of pandas?\n",
    "\n",
    "a) It used to normalize values by dividing them by the total count\n",
    "\n",
    "b) To add margins\n",
    "\n",
    "c) There is no parameter called as normalize in crosstab\n",
    "\n",
    "d) Both a & c\n"
   ]
  },
  {
   "cell_type": "markdown",
   "id": "f1ce9713",
   "metadata": {},
   "source": [
    "ANSWER :- d) Both a & c\n",
    "    \n",
    "a) It used to normalize values by dividing them by the total count\n",
    "\n",
    "c) There is no parameter called as normalize in crosstab"
   ]
  },
  {
   "cell_type": "markdown",
   "id": "45ea14d7",
   "metadata": {},
   "source": [
    "### 33. What is the probability of finding a Male and having a Pet in df3?\n",
    "\n",
    "a) 0.333\n",
    "\n",
    "c) 0.5\n",
    "\n",
    "b) 0.666\n",
    "\n",
    "d) 0.1667"
   ]
  },
  {
   "cell_type": "code",
   "execution_count": 26,
   "id": "ad250040",
   "metadata": {},
   "outputs": [
    {
     "name": "stdout",
     "output_type": "stream",
     "text": [
      "0.3333333333333333\n"
     ]
    }
   ],
   "source": [
    "x = len(df3)\n",
    "male_and_has_pet = len(df3[(df3['Gender'] == 'Male') & (df3['Has Pet'] == 'Yes')])\n",
    "probability = male_and_has_pet / x\n",
    "\n",
    "print(probability)"
   ]
  },
  {
   "cell_type": "markdown",
   "id": "b3ff40fe",
   "metadata": {},
   "source": [
    "### 34. What is the probability of finding a person having a Pet given they belong to the age group 18-25 in df3?\n",
    "\n",
    "a) 0.25\n",
    "\n",
    "c) 0.75\n",
    "\n",
    "b) 0\n",
    "\n",
    "d) 1\n"
   ]
  },
  {
   "cell_type": "code",
   "execution_count": 27,
   "id": "73af5a67",
   "metadata": {},
   "outputs": [
    {
     "name": "stdout",
     "output_type": "stream",
     "text": [
      "0.75\n"
     ]
    }
   ],
   "source": [
    "age_group_18_25 = len(df3[df3['Age Group'] == '18-25'])\n",
    "has_pet_and_age_group_18_25 = len(df3[(df3['Age Group'] == '18-25') & (df3['Has Pet'] == 'Yes')])\n",
    "probability = has_pet_and_age_group_18_25 / age_group_18_25\n",
    "\n",
    "print(probability)"
   ]
  },
  {
   "cell_type": "markdown",
   "id": "4b6a3658",
   "metadata": {},
   "source": [
    "### 35. Which distribution is appropriate for modeling the number of defects in a large batch of products?\n",
    "\n",
    "a) Normal\n",
    "\n",
    "b) Binomial\n",
    "\n",
    "c) Bernoulli\n",
    "\n",
    "d) Uniform"
   ]
  },
  {
   "cell_type": "markdown",
   "id": "19a0c17c",
   "metadata": {},
   "source": [
    "ANSWER :- b) Binominal\n",
    "    \n",
    "The number of defects in a large batch of products is often modeled using a binomial distribution."
   ]
  },
  {
   "cell_type": "code",
   "execution_count": null,
   "id": "96515368",
   "metadata": {},
   "outputs": [],
   "source": []
  },
  {
   "cell_type": "code",
   "execution_count": null,
   "id": "9374aa40",
   "metadata": {},
   "outputs": [],
   "source": []
  }
 ],
 "metadata": {
  "kernelspec": {
   "display_name": "Python 3 (ipykernel)",
   "language": "python",
   "name": "python3"
  },
  "language_info": {
   "codemirror_mode": {
    "name": "ipython",
    "version": 3
   },
   "file_extension": ".py",
   "mimetype": "text/x-python",
   "name": "python",
   "nbconvert_exporter": "python",
   "pygments_lexer": "ipython3",
   "version": "3.11.5"
  }
 },
 "nbformat": 4,
 "nbformat_minor": 5
}
